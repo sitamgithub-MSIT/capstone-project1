{
 "cells": [
  {
   "attachments": {},
   "cell_type": "markdown",
   "id": "92e48866",
   "metadata": {},
   "source": [
    "## Model Training\n"
   ]
  },
  {
   "cell_type": "markdown",
   "id": "25791a74",
   "metadata": {},
   "source": [
    "#### Import Data and Required Packages\n",
    "\n",
    "##### Importing Pandas, Numpy, Matplotlib, Seaborn, Scikit-Learn, and other required libraries\n"
   ]
  },
  {
   "cell_type": "code",
   "execution_count": 43,
   "id": "b080dfb2",
   "metadata": {},
   "outputs": [],
   "source": [
    "# Basic Import\n",
    "import numpy as np\n",
    "import pandas as pd\n",
    "import matplotlib.pyplot as plt\n",
    "import seaborn as sns\n",
    "\n",
    "# For feature engineering\n",
    "from sklearn.preprocessing import StandardScaler\n",
    "from sklearn.preprocessing import OneHotEncoder, StandardScaler, OrdinalEncoder\n",
    "from sklearn.compose import ColumnTransformer\n",
    "from feature_engine import imputation as mdi\n",
    "from feature_engine import discretisation as dsc\n",
    "from feature_engine import encoding as ce\n",
    "\n",
    "# Sklearn Import\n",
    "from sklearn.pipeline import Pipeline\n",
    "\n",
    "from sklearn.neighbors import KNeighborsRegressor\n",
    "from sklearn.tree import DecisionTreeRegressor\n",
    "from sklearn.ensemble import (\n",
    "    RandomForestRegressor,\n",
    "    AdaBoostRegressor,\n",
    "    GradientBoostingRegressor,\n",
    ")\n",
    "from sklearn.linear_model import (\n",
    "    LinearRegression,\n",
    "    Ridge,\n",
    "    Lasso,\n",
    "    ElasticNet,\n",
    "    BayesianRidge,\n",
    ")\n",
    "from sklearn.svm import SVR\n",
    "\n",
    "from catboost import CatBoostRegressor\n",
    "from xgboost import XGBRegressor\n",
    "\n",
    "from sklearn.metrics import r2_score, mean_absolute_error, mean_squared_error\n",
    "from sklearn.model_selection import RandomizedSearchCV\n",
    "\n",
    "# Other Import\n",
    "import warnings"
   ]
  },
  {
   "cell_type": "markdown",
   "id": "e45079ad",
   "metadata": {},
   "source": [
    "#### Import the CSV Data as Pandas DataFrame\n"
   ]
  },
  {
   "cell_type": "code",
   "execution_count": 44,
   "id": "e11c6255",
   "metadata": {},
   "outputs": [],
   "source": [
    "# Read Data from CSV File and Store it in Pandas DataFrame Object\n",
    "df = pd.read_csv(\"data/insurance.csv\")"
   ]
  },
  {
   "cell_type": "markdown",
   "id": "20634923",
   "metadata": {},
   "source": [
    "#### Show Top 5 Records\n"
   ]
  },
  {
   "cell_type": "code",
   "execution_count": 45,
   "id": "e7e412a2",
   "metadata": {},
   "outputs": [
    {
     "data": {
      "text/html": [
       "<div>\n",
       "<style scoped>\n",
       "    .dataframe tbody tr th:only-of-type {\n",
       "        vertical-align: middle;\n",
       "    }\n",
       "\n",
       "    .dataframe tbody tr th {\n",
       "        vertical-align: top;\n",
       "    }\n",
       "\n",
       "    .dataframe thead th {\n",
       "        text-align: right;\n",
       "    }\n",
       "</style>\n",
       "<table border=\"1\" class=\"dataframe\">\n",
       "  <thead>\n",
       "    <tr style=\"text-align: right;\">\n",
       "      <th></th>\n",
       "      <th>age</th>\n",
       "      <th>sex</th>\n",
       "      <th>bmi</th>\n",
       "      <th>children</th>\n",
       "      <th>smoker</th>\n",
       "      <th>region</th>\n",
       "      <th>charges</th>\n",
       "    </tr>\n",
       "  </thead>\n",
       "  <tbody>\n",
       "    <tr>\n",
       "      <th>0</th>\n",
       "      <td>19</td>\n",
       "      <td>female</td>\n",
       "      <td>27.900</td>\n",
       "      <td>0</td>\n",
       "      <td>yes</td>\n",
       "      <td>southwest</td>\n",
       "      <td>16884.92400</td>\n",
       "    </tr>\n",
       "    <tr>\n",
       "      <th>1</th>\n",
       "      <td>18</td>\n",
       "      <td>male</td>\n",
       "      <td>33.770</td>\n",
       "      <td>1</td>\n",
       "      <td>no</td>\n",
       "      <td>southeast</td>\n",
       "      <td>1725.55230</td>\n",
       "    </tr>\n",
       "    <tr>\n",
       "      <th>2</th>\n",
       "      <td>28</td>\n",
       "      <td>male</td>\n",
       "      <td>33.000</td>\n",
       "      <td>3</td>\n",
       "      <td>no</td>\n",
       "      <td>southeast</td>\n",
       "      <td>4449.46200</td>\n",
       "    </tr>\n",
       "    <tr>\n",
       "      <th>3</th>\n",
       "      <td>33</td>\n",
       "      <td>male</td>\n",
       "      <td>22.705</td>\n",
       "      <td>0</td>\n",
       "      <td>no</td>\n",
       "      <td>northwest</td>\n",
       "      <td>21984.47061</td>\n",
       "    </tr>\n",
       "    <tr>\n",
       "      <th>4</th>\n",
       "      <td>32</td>\n",
       "      <td>male</td>\n",
       "      <td>28.880</td>\n",
       "      <td>0</td>\n",
       "      <td>no</td>\n",
       "      <td>northwest</td>\n",
       "      <td>3866.85520</td>\n",
       "    </tr>\n",
       "  </tbody>\n",
       "</table>\n",
       "</div>"
      ],
      "text/plain": [
       "   age     sex     bmi  children smoker     region      charges\n",
       "0   19  female  27.900         0    yes  southwest  16884.92400\n",
       "1   18    male  33.770         1     no  southeast   1725.55230\n",
       "2   28    male  33.000         3     no  southeast   4449.46200\n",
       "3   33    male  22.705         0     no  northwest  21984.47061\n",
       "4   32    male  28.880         0     no  northwest   3866.85520"
      ]
     },
     "execution_count": 45,
     "metadata": {},
     "output_type": "execute_result"
    }
   ],
   "source": [
    "# Check the first 5 rows of the data\n",
    "df.head()"
   ]
  },
  {
   "cell_type": "markdown",
   "id": "fbd32281",
   "metadata": {},
   "source": [
    "#### Preparing X and Y variables\n"
   ]
  },
  {
   "cell_type": "code",
   "execution_count": 46,
   "id": "56d72fde",
   "metadata": {},
   "outputs": [],
   "source": [
    "# Features except target variable (charges) are stored in X variable\n",
    "X = df.drop(columns=[\"charges\"], axis=1)"
   ]
  },
  {
   "cell_type": "code",
   "execution_count": 47,
   "id": "cd613177",
   "metadata": {},
   "outputs": [
    {
     "data": {
      "text/html": [
       "<div>\n",
       "<style scoped>\n",
       "    .dataframe tbody tr th:only-of-type {\n",
       "        vertical-align: middle;\n",
       "    }\n",
       "\n",
       "    .dataframe tbody tr th {\n",
       "        vertical-align: top;\n",
       "    }\n",
       "\n",
       "    .dataframe thead th {\n",
       "        text-align: right;\n",
       "    }\n",
       "</style>\n",
       "<table border=\"1\" class=\"dataframe\">\n",
       "  <thead>\n",
       "    <tr style=\"text-align: right;\">\n",
       "      <th></th>\n",
       "      <th>age</th>\n",
       "      <th>sex</th>\n",
       "      <th>bmi</th>\n",
       "      <th>children</th>\n",
       "      <th>smoker</th>\n",
       "      <th>region</th>\n",
       "    </tr>\n",
       "  </thead>\n",
       "  <tbody>\n",
       "    <tr>\n",
       "      <th>0</th>\n",
       "      <td>19</td>\n",
       "      <td>female</td>\n",
       "      <td>27.900</td>\n",
       "      <td>0</td>\n",
       "      <td>yes</td>\n",
       "      <td>southwest</td>\n",
       "    </tr>\n",
       "    <tr>\n",
       "      <th>1</th>\n",
       "      <td>18</td>\n",
       "      <td>male</td>\n",
       "      <td>33.770</td>\n",
       "      <td>1</td>\n",
       "      <td>no</td>\n",
       "      <td>southeast</td>\n",
       "    </tr>\n",
       "    <tr>\n",
       "      <th>2</th>\n",
       "      <td>28</td>\n",
       "      <td>male</td>\n",
       "      <td>33.000</td>\n",
       "      <td>3</td>\n",
       "      <td>no</td>\n",
       "      <td>southeast</td>\n",
       "    </tr>\n",
       "    <tr>\n",
       "      <th>3</th>\n",
       "      <td>33</td>\n",
       "      <td>male</td>\n",
       "      <td>22.705</td>\n",
       "      <td>0</td>\n",
       "      <td>no</td>\n",
       "      <td>northwest</td>\n",
       "    </tr>\n",
       "    <tr>\n",
       "      <th>4</th>\n",
       "      <td>32</td>\n",
       "      <td>male</td>\n",
       "      <td>28.880</td>\n",
       "      <td>0</td>\n",
       "      <td>no</td>\n",
       "      <td>northwest</td>\n",
       "    </tr>\n",
       "  </tbody>\n",
       "</table>\n",
       "</div>"
      ],
      "text/plain": [
       "   age     sex     bmi  children smoker     region\n",
       "0   19  female  27.900         0    yes  southwest\n",
       "1   18    male  33.770         1     no  southeast\n",
       "2   28    male  33.000         3     no  southeast\n",
       "3   33    male  22.705         0     no  northwest\n",
       "4   32    male  28.880         0     no  northwest"
      ]
     },
     "execution_count": 47,
     "metadata": {},
     "output_type": "execute_result"
    }
   ],
   "source": [
    "# Top 5 rows of X variable (features) are displayed below\n",
    "X.head()"
   ]
  },
  {
   "cell_type": "code",
   "execution_count": 48,
   "id": "f237ea14",
   "metadata": {},
   "outputs": [
    {
     "name": "stdout",
     "output_type": "stream",
     "text": [
      "Categories in 'sex' variable:      ['female' 'male']\n",
      "Categories in 'smoker' variable:   ['yes' 'no']\n",
      "Categories in'region' variable: ['southwest' 'southeast' 'northwest' 'northeast']\n",
      "Categories in 'children' variable:      [0 1 3 2 5 4]\n"
     ]
    }
   ],
   "source": [
    "# Categories in the different dataset variables\n",
    "print(\"Categories in 'sex' variable:     \", end=\" \")\n",
    "print(df[\"sex\"].unique())\n",
    "\n",
    "print(\"Categories in 'smoker' variable:  \", end=\" \")\n",
    "print(df[\"smoker\"].unique())\n",
    "\n",
    "print(\"Categories in'region' variable:\", end=\" \")\n",
    "print(df[\"region\"].unique())\n",
    "\n",
    "print(\"Categories in 'children' variable:     \", end=\" \")\n",
    "print(df[\"children\"].unique())"
   ]
  },
  {
   "cell_type": "code",
   "execution_count": 49,
   "id": "924b7f9d",
   "metadata": {},
   "outputs": [],
   "source": [
    "# Target variable (charges) is stored in y variable\n",
    "y = df[\"charges\"]"
   ]
  },
  {
   "cell_type": "code",
   "execution_count": 50,
   "id": "ffc69816",
   "metadata": {},
   "outputs": [
    {
     "data": {
      "text/plain": [
       "0       16884.92400\n",
       "1        1725.55230\n",
       "2        4449.46200\n",
       "3       21984.47061\n",
       "4        3866.85520\n",
       "           ...     \n",
       "1333    10600.54830\n",
       "1334     2205.98080\n",
       "1335     1629.83350\n",
       "1336     2007.94500\n",
       "1337    29141.36030\n",
       "Name: charges, Length: 1338, dtype: float64"
      ]
     },
     "execution_count": 50,
     "metadata": {},
     "output_type": "execute_result"
    }
   ],
   "source": [
    "y"
   ]
  },
  {
   "cell_type": "markdown",
   "metadata": {},
   "source": []
  },
  {
   "cell_type": "code",
   "execution_count": 51,
   "metadata": {},
   "outputs": [
    {
     "name": "stdout",
     "output_type": "stream",
     "text": [
      "We have 3 categorical features : ['sex', 'smoker', 'region']\n"
     ]
    }
   ],
   "source": [
    "# define categorical columns\n",
    "categorical_features = [feature for feature in X.columns if X[feature].dtype == \"O\"]\n",
    "\n",
    "# print columns\n",
    "print(\n",
    "    f\"We have {len(categorical_features)} categorical features : {categorical_features}\"\n",
    ")"
   ]
  },
  {
   "cell_type": "markdown",
   "metadata": {},
   "source": []
  },
  {
   "cell_type": "code",
   "execution_count": 52,
   "metadata": {},
   "outputs": [
    {
     "name": "stdout",
     "output_type": "stream",
     "text": [
      "We have 3 numerical features : ['age', 'bmi', 'children']\n"
     ]
    }
   ],
   "source": [
    "# define numerical features\n",
    "numeric_features = [feature for feature in X.columns if X[feature].dtype != \"O\"]\n",
    "\n",
    "# print columns\n",
    "print(f\"We have {len(numeric_features)} numerical features : {numeric_features}\")"
   ]
  },
  {
   "cell_type": "markdown",
   "metadata": {},
   "source": []
  },
  {
   "cell_type": "code",
   "execution_count": 53,
   "metadata": {},
   "outputs": [
    {
     "name": "stdout",
     "output_type": "stream",
     "text": [
      "We have 1 discrete features : ['children']\n"
     ]
    }
   ],
   "source": [
    "# Discrete numerical features\n",
    "discrete_feature = [\n",
    "    feature for feature in numeric_features if len(X[feature].unique()) < 25\n",
    "]\n",
    "print(f\"We have {len(discrete_feature)} discrete features : {discrete_feature}\")"
   ]
  },
  {
   "cell_type": "markdown",
   "metadata": {},
   "source": []
  },
  {
   "cell_type": "code",
   "execution_count": 54,
   "metadata": {},
   "outputs": [
    {
     "name": "stdout",
     "output_type": "stream",
     "text": [
      "We have 2 continuous features : ['age', 'bmi']\n"
     ]
    }
   ],
   "source": [
    "# Contunious numerical features\n",
    "continuous_feature = [\n",
    "    feature for feature in numeric_features if feature not in discrete_feature\n",
    "]\n",
    "print(f\"We have {len(continuous_feature)} continuous features : {continuous_feature}\")"
   ]
  },
  {
   "cell_type": "code",
   "execution_count": 55,
   "metadata": {},
   "outputs": [],
   "source": [
    "# Discrete numerical features are converted to object type for encoding purpose later on in the pipeline\n",
    "X[discrete_feature] = X[discrete_feature].astype(\"O\")"
   ]
  },
  {
   "cell_type": "code",
   "execution_count": 56,
   "metadata": {},
   "outputs": [],
   "source": [
    "# StandardScaler and OrdinalEncoder used for numerical and categorical features respectively\n",
    "numeric_transformer = StandardScaler()\n",
    "or_transformer = OrdinalEncoder()\n",
    "\n",
    "# Create Column Transformer for Preprocessing the Data in Pipeline\n",
    "preprocessor = ColumnTransformer(\n",
    "    [\n",
    "        (\"OneHotEncoder\", or_transformer, categorical_features + discrete_feature),\n",
    "        (\"StandardScaler\", numeric_transformer, continuous_feature),\n",
    "    ]\n",
    ")"
   ]
  },
  {
   "cell_type": "code",
   "execution_count": 57,
   "id": "9c68f99a",
   "metadata": {},
   "outputs": [],
   "source": [
    "# Preprocess the data\n",
    "X = preprocessor.fit_transform(X)"
   ]
  },
  {
   "cell_type": "code",
   "execution_count": 58,
   "id": "72459f1d",
   "metadata": {},
   "outputs": [
    {
     "data": {
      "text/plain": [
       "(1338, 6)"
      ]
     },
     "execution_count": 58,
     "metadata": {},
     "output_type": "execute_result"
    }
   ],
   "source": [
    "# Check the shape of X\n",
    "X.shape"
   ]
  },
  {
   "cell_type": "code",
   "execution_count": 59,
   "id": "ed5c4e99",
   "metadata": {},
   "outputs": [
    {
     "data": {
      "text/plain": [
       "((1070, 6), (268, 6))"
      ]
     },
     "execution_count": 59,
     "metadata": {},
     "output_type": "execute_result"
    }
   ],
   "source": [
    "# separate dataset into train and test\n",
    "from sklearn.model_selection import train_test_split\n",
    "\n",
    "# split the data\n",
    "X_train, X_test, y_train, y_test = train_test_split(\n",
    "    X, y, test_size=0.2, random_state=42\n",
    ")\n",
    "\n",
    "# check the shape of X_train and X_test\n",
    "X_train.shape, X_test.shape"
   ]
  },
  {
   "cell_type": "markdown",
   "id": "4cd80317",
   "metadata": {},
   "source": [
    "#### Create an Evaluate Function to give all metrics after model Training\n"
   ]
  },
  {
   "cell_type": "code",
   "execution_count": 60,
   "id": "8c247bd0",
   "metadata": {},
   "outputs": [],
   "source": [
    "def evaluate_model(true, predicted):\n",
    "    \"\"\"\n",
    "    Evaluate the performance of a regression model.\n",
    "\n",
    "    Parameters:\n",
    "    true (array-like): The true values.\n",
    "    predicted (array-like): The predicted values.\n",
    "\n",
    "    Returns:\n",
    "    tuple: A tuple containing the mean absolute error (MAE), root mean squared error (RMSE),\n",
    "        and R-squared (R2) score.\n",
    "\n",
    "    \"\"\"\n",
    "    mae = mean_absolute_error(true, predicted)\n",
    "    mse = mean_squared_error(true, predicted)\n",
    "    rmse = np.sqrt(mean_squared_error(true, predicted))\n",
    "    r2_square = r2_score(true, predicted)\n",
    "    return mae, rmse, r2_square"
   ]
  },
  {
   "cell_type": "code",
   "execution_count": 61,
   "metadata": {},
   "outputs": [
    {
     "name": "stdout",
     "output_type": "stream",
     "text": [
      "Linear Regression\n",
      "Model performance for Training set\n",
      "- Root Mean Squared Error: 6105.7893\n",
      "- Mean Absolute Error: 4208.7620\n",
      "- R2 Score: 0.7417\n",
      "----------------------------------\n",
      "Model performance for Test set\n",
      "- Root Mean Squared Error: 5799.5871\n",
      "- Mean Absolute Error: 4186.5089\n",
      "- R2 Score: 0.7833\n",
      "===================================\n",
      "\n",
      "\n",
      "Lasso\n",
      "Model performance for Training set\n",
      "- Root Mean Squared Error: 6105.7905\n",
      "- Mean Absolute Error: 4208.9390\n",
      "- R2 Score: 0.7417\n",
      "----------------------------------\n",
      "Model performance for Test set\n",
      "- Root Mean Squared Error: 5799.9337\n",
      "- Mean Absolute Error: 4187.0095\n",
      "- R2 Score: 0.7833\n",
      "===================================\n",
      "\n",
      "\n",
      "Ridge\n",
      "Model performance for Training set\n",
      "- Root Mean Squared Error: 6106.0360\n",
      "- Mean Absolute Error: 4218.0230\n",
      "- R2 Score: 0.7417\n",
      "----------------------------------\n",
      "Model performance for Test set\n",
      "- Root Mean Squared Error: 5803.0785\n",
      "- Mean Absolute Error: 4197.6978\n",
      "- R2 Score: 0.7831\n",
      "===================================\n",
      "\n",
      "\n",
      "ElasticNet\n",
      "Model performance for Training set\n",
      "- Root Mean Squared Error: 9528.9607\n",
      "- Mean Absolute Error: 7257.4490\n",
      "- R2 Score: 0.3709\n",
      "----------------------------------\n",
      "Model performance for Test set\n",
      "- Root Mean Squared Error: 9699.0967\n",
      "- Mean Absolute Error: 7541.0202\n",
      "- R2 Score: 0.3941\n",
      "===================================\n",
      "\n",
      "\n",
      "Bayesian Ridge\n",
      "Model performance for Training set\n",
      "- Root Mean Squared Error: 6105.8274\n",
      "- Mean Absolute Error: 4212.3826\n",
      "- R2 Score: 0.7417\n",
      "----------------------------------\n",
      "Model performance for Test set\n",
      "- Root Mean Squared Error: 5800.8962\n",
      "- Mean Absolute Error: 4190.8772\n",
      "- R2 Score: 0.7832\n",
      "===================================\n",
      "\n",
      "\n",
      "K-Neighbors Regressor\n",
      "Model performance for Training set\n",
      "- Root Mean Squared Error: 5437.9557\n",
      "- Mean Absolute Error: 3258.8556\n",
      "- R2 Score: 0.7951\n",
      "----------------------------------\n",
      "Model performance for Test set\n",
      "- Root Mean Squared Error: 6708.1256\n",
      "- Mean Absolute Error: 3900.9207\n",
      "- R2 Score: 0.7101\n",
      "===================================\n",
      "\n",
      "\n",
      "Decision Tree\n",
      "Model performance for Training set\n",
      "- Root Mean Squared Error: 494.2060\n",
      "- Mean Absolute Error: 29.5725\n",
      "- R2 Score: 0.9983\n",
      "----------------------------------\n",
      "Model performance for Test set\n",
      "- Root Mean Squared Error: 6474.2059\n",
      "- Mean Absolute Error: 2962.6137\n",
      "- R2 Score: 0.7300\n",
      "===================================\n",
      "\n",
      "\n",
      "Random Forest Regressor\n",
      "Model performance for Training set\n",
      "- Root Mean Squared Error: 1909.9242\n",
      "- Mean Absolute Error: 1027.1720\n",
      "- R2 Score: 0.9747\n",
      "----------------------------------\n",
      "Model performance for Test set\n",
      "- Root Mean Squared Error: 4555.0772\n",
      "- Mean Absolute Error: 2440.7101\n",
      "- R2 Score: 0.8664\n",
      "===================================\n",
      "\n",
      "\n",
      "XGBRegressor\n",
      "Model performance for Training set\n",
      "- Root Mean Squared Error: 919.7656\n",
      "- Mean Absolute Error: 499.3392\n",
      "- R2 Score: 0.9941\n",
      "----------------------------------\n",
      "Model performance for Test set\n",
      "- Root Mean Squared Error: 4807.6573\n",
      "- Mean Absolute Error: 2794.2973\n",
      "- R2 Score: 0.8511\n",
      "===================================\n",
      "\n",
      "\n",
      "CatBoosting Regressor\n",
      "Model performance for Training set\n",
      "- Root Mean Squared Error: 2710.9899\n",
      "- Mean Absolute Error: 1514.7618\n",
      "- R2 Score: 0.9491\n",
      "----------------------------------\n",
      "Model performance for Test set\n",
      "- Root Mean Squared Error: 4476.3635\n",
      "- Mean Absolute Error: 2498.3917\n",
      "- R2 Score: 0.8709\n",
      "===================================\n",
      "\n",
      "\n",
      "AdaBoost Regressor\n",
      "Model performance for Training set\n",
      "- Root Mean Squared Error: 4855.1016\n",
      "- Mean Absolute Error: 3828.9519\n",
      "- R2 Score: 0.8367\n",
      "----------------------------------\n",
      "Model performance for Test set\n",
      "- Root Mean Squared Error: 5056.1144\n",
      "- Mean Absolute Error: 4023.5707\n",
      "- R2 Score: 0.8353\n",
      "===================================\n",
      "\n",
      "\n",
      "Gradient Boosting Regressor\n",
      "Model performance for Training set\n",
      "- Root Mean Squared Error: 3836.0650\n",
      "- Mean Absolute Error: 2101.3617\n",
      "- R2 Score: 0.8980\n",
      "----------------------------------\n",
      "Model performance for Test set\n",
      "- Root Mean Squared Error: 4359.6915\n",
      "- Mean Absolute Error: 2448.5848\n",
      "- R2 Score: 0.8776\n",
      "===================================\n",
      "\n",
      "\n",
      "SVR\n",
      "Model performance for Training set\n",
      "- Root Mean Squared Error: 12580.9231\n",
      "- Mean Absolute Error: 8254.9561\n",
      "- R2 Score: -0.0966\n",
      "----------------------------------\n",
      "Model performance for Test set\n",
      "- Root Mean Squared Error: 12899.0393\n",
      "- Mean Absolute Error: 8610.1772\n",
      "- R2 Score: -0.0717\n",
      "===================================\n",
      "\n",
      "\n"
     ]
    }
   ],
   "source": [
    "# Models to be used for training\n",
    "models = {\n",
    "    \"Linear Regression\": LinearRegression(),\n",
    "    \"Lasso\": Lasso(),\n",
    "    \"Ridge\": Ridge(),\n",
    "    \"ElasticNet\": ElasticNet(),\n",
    "    \"Bayesian Ridge\": BayesianRidge(),\n",
    "    \"K-Neighbors Regressor\": KNeighborsRegressor(),\n",
    "    \"Decision Tree\": DecisionTreeRegressor(),\n",
    "    \"Random Forest Regressor\": RandomForestRegressor(),\n",
    "    \"XGBRegressor\": XGBRegressor(),\n",
    "    \"CatBoosting Regressor\": CatBoostRegressor(verbose=False),\n",
    "    \"AdaBoost Regressor\": AdaBoostRegressor(),\n",
    "    \"Gradient Boosting Regressor\": GradientBoostingRegressor(),\n",
    "    \"SVR\": SVR(),\n",
    "}\n",
    "\n",
    "# Train and Evaluate the models\n",
    "model_list = []\n",
    "r2_list = []\n",
    "\n",
    "# Iterate through each model and train and evaluate the model\n",
    "for i in range(len(list(models))):\n",
    "    model = list(models.values())[i]\n",
    "    model.fit(X_train, y_train)  # Train model\n",
    "\n",
    "\n",
    "    # Make predictions on train and test dataset using the trained model\n",
    "    y_train_pred = model.predict(X_train)\n",
    "    y_test_pred = model.predict(X_test)\n",
    "\n",
    "\n",
    "    # Evaluate Train and Test dataset predictions\n",
    "    model_train_mae, model_train_rmse, model_train_r2 = evaluate_model(\n",
    "        y_train, y_train_pred\n",
    "    )\n",
    "\n",
    "\n",
    "    model_test_mae, model_test_rmse, model_test_r2 = evaluate_model(y_test, y_test_pred)\n",
    "\n",
    "\n",
    "    print(list(models.keys())[i])\n",
    "    model_list.append(list(models.keys())[i])\n",
    "\n",
    "\n",
    "    print(\"Model performance for Training set\")\n",
    "\n",
    "\n",
    "    print(\"- Root Mean Squared Error: {:.4f}\".format(model_train_rmse))\n",
    "    print(\"- Mean Absolute Error: {:.4f}\".format(model_train_mae))\n",
    "    print(\"- R2 Score: {:.4f}\".format(model_train_r2))\n",
    "\n",
    "    print(\"----------------------------------\")\n",
    "\n",
    "\n",
    "    print(\"Model performance for Test set\")\n",
    "\n",
    "\n",
    "    print(\"- Root Mean Squared Error: {:.4f}\".format(model_test_rmse))\n",
    "    print(\"- Mean Absolute Error: {:.4f}\".format(model_test_mae))\n",
    "    print(\"- R2 Score: {:.4f}\".format(model_test_r2))\n",
    "    r2_list.append(model_test_r2)\n",
    "\n",
    "\n",
    "    print(\"=\" * 35)\n",
    "    print(\"\\n\")"
   ]
  },
  {
   "cell_type": "markdown",
   "id": "06480b5a",
   "metadata": {},
   "source": [
    "### Results\n"
   ]
  },
  {
   "cell_type": "code",
   "execution_count": 62,
   "id": "e0159e5f",
   "metadata": {},
   "outputs": [
    {
     "data": {
      "text/html": [
       "<div>\n",
       "<style scoped>\n",
       "    .dataframe tbody tr th:only-of-type {\n",
       "        vertical-align: middle;\n",
       "    }\n",
       "\n",
       "    .dataframe tbody tr th {\n",
       "        vertical-align: top;\n",
       "    }\n",
       "\n",
       "    .dataframe thead th {\n",
       "        text-align: right;\n",
       "    }\n",
       "</style>\n",
       "<table border=\"1\" class=\"dataframe\">\n",
       "  <thead>\n",
       "    <tr style=\"text-align: right;\">\n",
       "      <th></th>\n",
       "      <th>Model Name</th>\n",
       "      <th>R2_Score</th>\n",
       "    </tr>\n",
       "  </thead>\n",
       "  <tbody>\n",
       "    <tr>\n",
       "      <th>11</th>\n",
       "      <td>Gradient Boosting Regressor</td>\n",
       "      <td>0.877571</td>\n",
       "    </tr>\n",
       "    <tr>\n",
       "      <th>9</th>\n",
       "      <td>CatBoosting Regressor</td>\n",
       "      <td>0.870931</td>\n",
       "    </tr>\n",
       "    <tr>\n",
       "      <th>7</th>\n",
       "      <td>Random Forest Regressor</td>\n",
       "      <td>0.866352</td>\n",
       "    </tr>\n",
       "    <tr>\n",
       "      <th>8</th>\n",
       "      <td>XGBRegressor</td>\n",
       "      <td>0.851119</td>\n",
       "    </tr>\n",
       "    <tr>\n",
       "      <th>10</th>\n",
       "      <td>AdaBoost Regressor</td>\n",
       "      <td>0.835333</td>\n",
       "    </tr>\n",
       "    <tr>\n",
       "      <th>0</th>\n",
       "      <td>Linear Regression</td>\n",
       "      <td>0.783346</td>\n",
       "    </tr>\n",
       "    <tr>\n",
       "      <th>1</th>\n",
       "      <td>Lasso</td>\n",
       "      <td>0.783320</td>\n",
       "    </tr>\n",
       "    <tr>\n",
       "      <th>4</th>\n",
       "      <td>Bayesian Ridge</td>\n",
       "      <td>0.783248</td>\n",
       "    </tr>\n",
       "    <tr>\n",
       "      <th>2</th>\n",
       "      <td>Ridge</td>\n",
       "      <td>0.783085</td>\n",
       "    </tr>\n",
       "    <tr>\n",
       "      <th>6</th>\n",
       "      <td>Decision Tree</td>\n",
       "      <td>0.730012</td>\n",
       "    </tr>\n",
       "    <tr>\n",
       "      <th>5</th>\n",
       "      <td>K-Neighbors Regressor</td>\n",
       "      <td>0.710149</td>\n",
       "    </tr>\n",
       "    <tr>\n",
       "      <th>3</th>\n",
       "      <td>ElasticNet</td>\n",
       "      <td>0.394053</td>\n",
       "    </tr>\n",
       "    <tr>\n",
       "      <th>12</th>\n",
       "      <td>SVR</td>\n",
       "      <td>-0.071733</td>\n",
       "    </tr>\n",
       "  </tbody>\n",
       "</table>\n",
       "</div>"
      ],
      "text/plain": [
       "                     Model Name  R2_Score\n",
       "11  Gradient Boosting Regressor  0.877571\n",
       "9         CatBoosting Regressor  0.870931\n",
       "7       Random Forest Regressor  0.866352\n",
       "8                  XGBRegressor  0.851119\n",
       "10           AdaBoost Regressor  0.835333\n",
       "0             Linear Regression  0.783346\n",
       "1                         Lasso  0.783320\n",
       "4                Bayesian Ridge  0.783248\n",
       "2                         Ridge  0.783085\n",
       "6                 Decision Tree  0.730012\n",
       "5         K-Neighbors Regressor  0.710149\n",
       "3                    ElasticNet  0.394053\n",
       "12                          SVR -0.071733"
      ]
     },
     "execution_count": 62,
     "metadata": {},
     "output_type": "execute_result"
    }
   ],
   "source": [
    "# Create a dataframe to compare the performance of each model\n",
    "pd.DataFrame(\n",
    "    list(zip(model_list, r2_list)), columns=[\"Model Name\", \"R2_Score\"]\n",
    ").sort_values(by=[\"R2_Score\"], ascending=False)"
   ]
  },
  {
   "cell_type": "markdown",
   "id": "357a7c1c",
   "metadata": {},
   "source": [
    "## Linear Regression\n"
   ]
  },
  {
   "cell_type": "code",
   "execution_count": 63,
   "id": "9a6ad559",
   "metadata": {},
   "outputs": [],
   "source": [
    "# lin_model = LinearRegression(fit_intercept=True)\n",
    "# lin_model = lin_model.fit(X_train, y_train)\n",
    "# y_pred = lin_model.predict(X_test)\n",
    "# score = r2_score(y_test, y_pred) * 100\n",
    "# print(\" Accuracy of the model is %.2f\" % score)"
   ]
  },
  {
   "cell_type": "code",
   "execution_count": 64,
   "metadata": {},
   "outputs": [
    {
     "name": "stdout",
     "output_type": "stream",
     "text": [
      " Accuracy of the model is 87.09\n"
     ]
    }
   ],
   "source": [
    "catboost_model = CatBoostRegressor(verbose=False)\n",
    "catboost_model = catboost_model.fit(X_train, y_train)\n",
    "y_pred = catboost_model.predict(X_test)\n",
    "score = r2_score(y_test, y_pred) * 100\n",
    "print(\" Accuracy of the model is %.2f\" % score)"
   ]
  },
  {
   "cell_type": "markdown",
   "id": "1d31453e",
   "metadata": {},
   "source": [
    "## Plot y_pred and y_test\n"
   ]
  },
  {
   "cell_type": "code",
   "execution_count": 65,
   "id": "eb557b0a",
   "metadata": {},
   "outputs": [
    {
     "data": {
      "image/png": "[encoded data removed]",
      "text/plain": [
       "<Figure size 640x480 with 1 Axes>"
      ]
     },
     "metadata": {},
     "output_type": "display_data"
    }
   ],
   "source": [
    "# Plot the Actual vs Predicted values as a scatterplot\n",
    "sns.scatterplot(x=y_test, y=y_pred)\n",
    "\n",
    "\n",
    "plt.xlabel(\"Actual\")\n",
    "\n",
    "\n",
    "plt.ylabel(\"Predicted\")\n",
    "\n",
    "\n",
    "plt.title(\"Actual vs Predicted\")\n",
    "\n",
    "\n",
    "plt.show()"
   ]
  },
  {
   "cell_type": "code",
   "execution_count": 66,
   "id": "1e707ec3",
   "metadata": {},
   "outputs": [
    {
     "data": {
      "image/png": "[encoded data removed]",
      "text/plain": [
       "<Figure size 640x480 with 1 Axes>"
      ]
     },
     "metadata": {},
     "output_type": "display_data"
    }
   ],
   "source": [
    "# Plot the Actual vs Predicted values as a regression plot\n",
    "sns.regplot(x=y_test, y=y_pred, ci=None, color=\"red\")\n",
    "\n",
    "plt.xlabel(\"Actual\")\n",
    "\n",
    "plt.ylabel(\"Predicted\")\n",
    "\n",
    "plt.title(\"Actual vs Predicted\")\n",
    "\n",
    "plt.show()"
   ]
  },
  {
   "cell_type": "markdown",
   "id": "79c2fe28",
   "metadata": {},
   "source": [
    "#### Difference between Actual and Predicted Values\n"
   ]
  },
  {
   "cell_type": "code",
   "execution_count": 67,
   "id": "7c9a8b48",
   "metadata": {},
   "outputs": [
    {
     "data": {
      "text/html": [
       "<div>\n",
       "<style scoped>\n",
       "    .dataframe tbody tr th:only-of-type {\n",
       "        vertical-align: middle;\n",
       "    }\n",
       "\n",
       "    .dataframe tbody tr th {\n",
       "        vertical-align: top;\n",
       "    }\n",
       "\n",
       "    .dataframe thead th {\n",
       "        text-align: right;\n",
       "    }\n",
       "</style>\n",
       "<table border=\"1\" class=\"dataframe\">\n",
       "  <thead>\n",
       "    <tr style=\"text-align: right;\">\n",
       "      <th></th>\n",
       "      <th>Actual Value</th>\n",
       "      <th>Predicted Value</th>\n",
       "      <th>Difference</th>\n",
       "    </tr>\n",
       "  </thead>\n",
       "  <tbody>\n",
       "    <tr>\n",
       "      <th>764</th>\n",
       "      <td>9095.06825</td>\n",
       "      <td>11952.455940</td>\n",
       "      <td>-2857.387690</td>\n",
       "    </tr>\n",
       "    <tr>\n",
       "      <th>887</th>\n",
       "      <td>5272.17580</td>\n",
       "      <td>6928.488601</td>\n",
       "      <td>-1656.312801</td>\n",
       "    </tr>\n",
       "    <tr>\n",
       "      <th>890</th>\n",
       "      <td>29330.98315</td>\n",
       "      <td>30604.889148</td>\n",
       "      <td>-1273.905998</td>\n",
       "    </tr>\n",
       "    <tr>\n",
       "      <th>1293</th>\n",
       "      <td>9301.89355</td>\n",
       "      <td>10180.356292</td>\n",
       "      <td>-878.462742</td>\n",
       "    </tr>\n",
       "    <tr>\n",
       "      <th>259</th>\n",
       "      <td>33750.29180</td>\n",
       "      <td>34269.632168</td>\n",
       "      <td>-519.340368</td>\n",
       "    </tr>\n",
       "    <tr>\n",
       "      <th>...</th>\n",
       "      <td>...</td>\n",
       "      <td>...</td>\n",
       "      <td>...</td>\n",
       "    </tr>\n",
       "    <tr>\n",
       "      <th>109</th>\n",
       "      <td>47055.53210</td>\n",
       "      <td>46592.616056</td>\n",
       "      <td>462.916044</td>\n",
       "    </tr>\n",
       "    <tr>\n",
       "      <th>575</th>\n",
       "      <td>12222.89830</td>\n",
       "      <td>13066.593410</td>\n",
       "      <td>-843.695110</td>\n",
       "    </tr>\n",
       "    <tr>\n",
       "      <th>535</th>\n",
       "      <td>6067.12675</td>\n",
       "      <td>6003.703686</td>\n",
       "      <td>63.423064</td>\n",
       "    </tr>\n",
       "    <tr>\n",
       "      <th>543</th>\n",
       "      <td>63770.42801</td>\n",
       "      <td>45613.698602</td>\n",
       "      <td>18156.729408</td>\n",
       "    </tr>\n",
       "    <tr>\n",
       "      <th>846</th>\n",
       "      <td>9872.70100</td>\n",
       "      <td>10378.374389</td>\n",
       "      <td>-505.673389</td>\n",
       "    </tr>\n",
       "  </tbody>\n",
       "</table>\n",
       "<p>268 rows × 3 columns</p>\n",
       "</div>"
      ],
      "text/plain": [
       "      Actual Value  Predicted Value    Difference\n",
       "764     9095.06825     11952.455940  -2857.387690\n",
       "887     5272.17580      6928.488601  -1656.312801\n",
       "890    29330.98315     30604.889148  -1273.905998\n",
       "1293    9301.89355     10180.356292   -878.462742\n",
       "259    33750.29180     34269.632168   -519.340368\n",
       "...            ...              ...           ...\n",
       "109    47055.53210     46592.616056    462.916044\n",
       "575    12222.89830     13066.593410   -843.695110\n",
       "535     6067.12675      6003.703686     63.423064\n",
       "543    63770.42801     45613.698602  18156.729408\n",
       "846     9872.70100     10378.374389   -505.673389\n",
       "\n",
       "[268 rows x 3 columns]"
      ]
     },
     "execution_count": 67,
     "metadata": {},
     "output_type": "execute_result"
    }
   ],
   "source": [
    "# Dataframe to compare the Actual and Predicted values\n",
    "pred_df = pd.DataFrame(\n",
    "\n",
    "    {\"Actual Value\": y_test, \"Predicted Value\": y_pred, \"Difference\": y_test - y_pred}\n",
    ")\n",
    "# Display the dataframe\n",
    "pred_df"
   ]
  }
 ],
 "metadata": {
  "kernelspec": {
   "display_name": "Python 3 (ipykernel)",
   "language": "python",
   "name": "python3"
  },
  "language_info": {
   "codemirror_mode": {
    "name": "ipython",
    "version": 3
   },
   "file_extension": ".py",
   "mimetype": "text/x-python",
   "name": "python",
   "nbconvert_exporter": "python",
   "pygments_lexer": "ipython3",
   "version": "3.8.0"
  }
 },
 "nbformat": 4,
 "nbformat_minor": 5
}
